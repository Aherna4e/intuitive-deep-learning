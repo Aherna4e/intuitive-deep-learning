{
 "cells": [
  {
   "cell_type": "markdown",
   "metadata": {},
   "source": [
    "# Name: Alejandra Hernandez\n",
    "# Date: 12-04-2020\n",
    "# Desc: Forked from user https://github.com/josephlee94/intuitive-deep-learning.\n",
    "\n",
    "## changed all \"acc\" to \"accuracy\" and all \"val_acc\" to \"val_accuracy\"\n"
   ]
  },
  {
   "cell_type": "markdown",
   "metadata": {},
   "source": [
    "# Coding Companion for Intuitive Deep Learning Part 1 (Annotated)"
   ]
  },
  {
   "cell_type": "markdown",
   "metadata": {},
   "source": [
    "In this notebook, we'll go through the code for the coding companion for Intuitive Deep Learning Part 1 ([Part 1a](https://medium.com/intuitive-deep-learning/intuitive-deep-learning-part-1a-introduction-to-neural-networks-d7b16ebf6b99), [Part 1b](https://medium.com/intuitive-deep-learning/intuitive-deep-learning-part-1b-introduction-to-neural-networks-8565d97ddd2d)) to create your very first neural network to predict whether the house price is below or above median value. We will go through the following in this notebook:\n",
    "\n",
    "- Exploring and Processing the Data\n",
    "- Building and Training our Neural Network\n",
    "- Visualizing Loss and Accuracy\n",
    "- Adding Regularization to our Neural Network\n",
    "\n",
    "The code is annotated throughout the notebook and you simply need to download the dataset [here](https://drive.google.com/file/d/1GfvKA0qznNVknghV4botnNxyH-KvODOC/view), put the dataset in the same folder as this notebook and run the code cells below. Note that the results you get might differ slightly from the blogpost as there is a degree of randomness in the way we split our dataset as well as the initialization of our neural network."
   ]
  },
  {
   "cell_type": "markdown",
   "metadata": {},
   "source": [
    "# Exploring and Processing the Data"
   ]
  },
  {
   "cell_type": "markdown",
   "metadata": {},
   "source": [
    "We first have to read in the CSV file that we've been given. We'll use a package called pandas for that:"
   ]
  },
  {
   "cell_type": "code",
   "execution_count": 1,
   "metadata": {},
   "outputs": [],
   "source": [
    "import pandas as pd"
   ]
  },
  {
   "cell_type": "code",
   "execution_count": 2,
   "metadata": {},
   "outputs": [],
   "source": [
    "df = pd.read_csv('housepricedata.csv')"
   ]
  },
  {
   "cell_type": "code",
   "execution_count": 3,
   "metadata": {},
   "outputs": [
    {
     "data": {
      "text/html": [
       "<div>\n",
       "<style scoped>\n",
       "    .dataframe tbody tr th:only-of-type {\n",
       "        vertical-align: middle;\n",
       "    }\n",
       "\n",
       "    .dataframe tbody tr th {\n",
       "        vertical-align: top;\n",
       "    }\n",
       "\n",
       "    .dataframe thead th {\n",
       "        text-align: right;\n",
       "    }\n",
       "</style>\n",
       "<table border=\"1\" class=\"dataframe\">\n",
       "  <thead>\n",
       "    <tr style=\"text-align: right;\">\n",
       "      <th></th>\n",
       "      <th>LotArea</th>\n",
       "      <th>OverallQual</th>\n",
       "      <th>OverallCond</th>\n",
       "      <th>TotalBsmtSF</th>\n",
       "      <th>FullBath</th>\n",
       "      <th>HalfBath</th>\n",
       "      <th>BedroomAbvGr</th>\n",
       "      <th>TotRmsAbvGrd</th>\n",
       "      <th>Fireplaces</th>\n",
       "      <th>GarageArea</th>\n",
       "      <th>AboveMedianPrice</th>\n",
       "    </tr>\n",
       "  </thead>\n",
       "  <tbody>\n",
       "    <tr>\n",
       "      <th>0</th>\n",
       "      <td>8450</td>\n",
       "      <td>7</td>\n",
       "      <td>5</td>\n",
       "      <td>856</td>\n",
       "      <td>2</td>\n",
       "      <td>1</td>\n",
       "      <td>3</td>\n",
       "      <td>8</td>\n",
       "      <td>0</td>\n",
       "      <td>548</td>\n",
       "      <td>1</td>\n",
       "    </tr>\n",
       "    <tr>\n",
       "      <th>1</th>\n",
       "      <td>9600</td>\n",
       "      <td>6</td>\n",
       "      <td>8</td>\n",
       "      <td>1262</td>\n",
       "      <td>2</td>\n",
       "      <td>0</td>\n",
       "      <td>3</td>\n",
       "      <td>6</td>\n",
       "      <td>1</td>\n",
       "      <td>460</td>\n",
       "      <td>1</td>\n",
       "    </tr>\n",
       "    <tr>\n",
       "      <th>2</th>\n",
       "      <td>11250</td>\n",
       "      <td>7</td>\n",
       "      <td>5</td>\n",
       "      <td>920</td>\n",
       "      <td>2</td>\n",
       "      <td>1</td>\n",
       "      <td>3</td>\n",
       "      <td>6</td>\n",
       "      <td>1</td>\n",
       "      <td>608</td>\n",
       "      <td>1</td>\n",
       "    </tr>\n",
       "    <tr>\n",
       "      <th>3</th>\n",
       "      <td>9550</td>\n",
       "      <td>7</td>\n",
       "      <td>5</td>\n",
       "      <td>756</td>\n",
       "      <td>1</td>\n",
       "      <td>0</td>\n",
       "      <td>3</td>\n",
       "      <td>7</td>\n",
       "      <td>1</td>\n",
       "      <td>642</td>\n",
       "      <td>0</td>\n",
       "    </tr>\n",
       "    <tr>\n",
       "      <th>4</th>\n",
       "      <td>14260</td>\n",
       "      <td>8</td>\n",
       "      <td>5</td>\n",
       "      <td>1145</td>\n",
       "      <td>2</td>\n",
       "      <td>1</td>\n",
       "      <td>4</td>\n",
       "      <td>9</td>\n",
       "      <td>1</td>\n",
       "      <td>836</td>\n",
       "      <td>1</td>\n",
       "    </tr>\n",
       "    <tr>\n",
       "      <th>...</th>\n",
       "      <td>...</td>\n",
       "      <td>...</td>\n",
       "      <td>...</td>\n",
       "      <td>...</td>\n",
       "      <td>...</td>\n",
       "      <td>...</td>\n",
       "      <td>...</td>\n",
       "      <td>...</td>\n",
       "      <td>...</td>\n",
       "      <td>...</td>\n",
       "      <td>...</td>\n",
       "    </tr>\n",
       "    <tr>\n",
       "      <th>1455</th>\n",
       "      <td>7917</td>\n",
       "      <td>6</td>\n",
       "      <td>5</td>\n",
       "      <td>953</td>\n",
       "      <td>2</td>\n",
       "      <td>1</td>\n",
       "      <td>3</td>\n",
       "      <td>7</td>\n",
       "      <td>1</td>\n",
       "      <td>460</td>\n",
       "      <td>1</td>\n",
       "    </tr>\n",
       "    <tr>\n",
       "      <th>1456</th>\n",
       "      <td>13175</td>\n",
       "      <td>6</td>\n",
       "      <td>6</td>\n",
       "      <td>1542</td>\n",
       "      <td>2</td>\n",
       "      <td>0</td>\n",
       "      <td>3</td>\n",
       "      <td>7</td>\n",
       "      <td>2</td>\n",
       "      <td>500</td>\n",
       "      <td>1</td>\n",
       "    </tr>\n",
       "    <tr>\n",
       "      <th>1457</th>\n",
       "      <td>9042</td>\n",
       "      <td>7</td>\n",
       "      <td>9</td>\n",
       "      <td>1152</td>\n",
       "      <td>2</td>\n",
       "      <td>0</td>\n",
       "      <td>4</td>\n",
       "      <td>9</td>\n",
       "      <td>2</td>\n",
       "      <td>252</td>\n",
       "      <td>1</td>\n",
       "    </tr>\n",
       "    <tr>\n",
       "      <th>1458</th>\n",
       "      <td>9717</td>\n",
       "      <td>5</td>\n",
       "      <td>6</td>\n",
       "      <td>1078</td>\n",
       "      <td>1</td>\n",
       "      <td>0</td>\n",
       "      <td>2</td>\n",
       "      <td>5</td>\n",
       "      <td>0</td>\n",
       "      <td>240</td>\n",
       "      <td>0</td>\n",
       "    </tr>\n",
       "    <tr>\n",
       "      <th>1459</th>\n",
       "      <td>9937</td>\n",
       "      <td>5</td>\n",
       "      <td>6</td>\n",
       "      <td>1256</td>\n",
       "      <td>1</td>\n",
       "      <td>1</td>\n",
       "      <td>3</td>\n",
       "      <td>6</td>\n",
       "      <td>0</td>\n",
       "      <td>276</td>\n",
       "      <td>0</td>\n",
       "    </tr>\n",
       "  </tbody>\n",
       "</table>\n",
       "<p>1460 rows × 11 columns</p>\n",
       "</div>"
      ],
      "text/plain": [
       "      LotArea  OverallQual  OverallCond  TotalBsmtSF  FullBath  HalfBath  \\\n",
       "0        8450            7            5          856         2         1   \n",
       "1        9600            6            8         1262         2         0   \n",
       "2       11250            7            5          920         2         1   \n",
       "3        9550            7            5          756         1         0   \n",
       "4       14260            8            5         1145         2         1   \n",
       "...       ...          ...          ...          ...       ...       ...   \n",
       "1455     7917            6            5          953         2         1   \n",
       "1456    13175            6            6         1542         2         0   \n",
       "1457     9042            7            9         1152         2         0   \n",
       "1458     9717            5            6         1078         1         0   \n",
       "1459     9937            5            6         1256         1         1   \n",
       "\n",
       "      BedroomAbvGr  TotRmsAbvGrd  Fireplaces  GarageArea  AboveMedianPrice  \n",
       "0                3             8           0         548                 1  \n",
       "1                3             6           1         460                 1  \n",
       "2                3             6           1         608                 1  \n",
       "3                3             7           1         642                 0  \n",
       "4                4             9           1         836                 1  \n",
       "...            ...           ...         ...         ...               ...  \n",
       "1455             3             7           1         460                 1  \n",
       "1456             3             7           2         500                 1  \n",
       "1457             4             9           2         252                 1  \n",
       "1458             2             5           0         240                 0  \n",
       "1459             3             6           0         276                 0  \n",
       "\n",
       "[1460 rows x 11 columns]"
      ]
     },
     "execution_count": 3,
     "metadata": {},
     "output_type": "execute_result"
    }
   ],
   "source": [
    "df"
   ]
  },
  {
   "cell_type": "markdown",
   "metadata": {},
   "source": [
    "The dataset that we have now is in what we call a pandas dataframe. To convert it to an array, simply access its values:"
   ]
  },
  {
   "cell_type": "code",
   "execution_count": 4,
   "metadata": {},
   "outputs": [],
   "source": [
    "dataset = df.values"
   ]
  },
  {
   "cell_type": "code",
   "execution_count": 5,
   "metadata": {},
   "outputs": [
    {
     "data": {
      "text/plain": [
       "array([[ 8450,     7,     5, ...,     0,   548,     1],\n",
       "       [ 9600,     6,     8, ...,     1,   460,     1],\n",
       "       [11250,     7,     5, ...,     1,   608,     1],\n",
       "       ...,\n",
       "       [ 9042,     7,     9, ...,     2,   252,     1],\n",
       "       [ 9717,     5,     6, ...,     0,   240,     0],\n",
       "       [ 9937,     5,     6, ...,     0,   276,     0]])"
      ]
     },
     "execution_count": 5,
     "metadata": {},
     "output_type": "execute_result"
    }
   ],
   "source": [
    "dataset"
   ]
  },
  {
   "cell_type": "markdown",
   "metadata": {},
   "source": [
    "Now, we split the dataset into our input features and the label we wish to predict."
   ]
  },
  {
   "cell_type": "code",
   "execution_count": 6,
   "metadata": {},
   "outputs": [],
   "source": [
    "X = dataset[:,0:10]\n",
    "Y = dataset[:,10]"
   ]
  },
  {
   "cell_type": "markdown",
   "metadata": {},
   "source": [
    "Normalizing our data is very important, as we want the input features to be on the same order of magnitude to make our training easier. We'll use a min-max scaler from scikit-learn which scales our data to be between 0 and 1."
   ]
  },
  {
   "cell_type": "code",
   "execution_count": 7,
   "metadata": {},
   "outputs": [],
   "source": [
    "from sklearn import preprocessing"
   ]
  },
  {
   "cell_type": "code",
   "execution_count": 8,
   "metadata": {},
   "outputs": [],
   "source": [
    "min_max_scaler = preprocessing.MinMaxScaler()\n",
    "X_scale = min_max_scaler.fit_transform(X)"
   ]
  },
  {
   "cell_type": "code",
   "execution_count": 9,
   "metadata": {},
   "outputs": [
    {
     "data": {
      "text/plain": [
       "array([[0.0334198 , 0.66666667, 0.5       , ..., 0.5       , 0.        ,\n",
       "        0.3864598 ],\n",
       "       [0.03879502, 0.55555556, 0.875     , ..., 0.33333333, 0.33333333,\n",
       "        0.32440056],\n",
       "       [0.04650728, 0.66666667, 0.5       , ..., 0.33333333, 0.33333333,\n",
       "        0.42877292],\n",
       "       ...,\n",
       "       [0.03618687, 0.66666667, 1.        , ..., 0.58333333, 0.66666667,\n",
       "        0.17771509],\n",
       "       [0.03934189, 0.44444444, 0.625     , ..., 0.25      , 0.        ,\n",
       "        0.16925247],\n",
       "       [0.04037019, 0.44444444, 0.625     , ..., 0.33333333, 0.        ,\n",
       "        0.19464034]])"
      ]
     },
     "execution_count": 9,
     "metadata": {},
     "output_type": "execute_result"
    }
   ],
   "source": [
    "X_scale"
   ]
  },
  {
   "cell_type": "markdown",
   "metadata": {},
   "source": [
    "Lastly, we wish to set aside some parts of our dataset for a validation set and a test set. We use the function train_test_split from scikit-learn to do that."
   ]
  },
  {
   "cell_type": "code",
   "execution_count": 10,
   "metadata": {},
   "outputs": [],
   "source": [
    "from sklearn.model_selection import train_test_split"
   ]
  },
  {
   "cell_type": "code",
   "execution_count": 11,
   "metadata": {},
   "outputs": [],
   "source": [
    "X_train, X_val_and_test, Y_train, Y_val_and_test = train_test_split(X_scale, Y, test_size=0.3)"
   ]
  },
  {
   "cell_type": "code",
   "execution_count": 12,
   "metadata": {},
   "outputs": [],
   "source": [
    "X_val, X_test, Y_val, Y_test = train_test_split(X_val_and_test, Y_val_and_test, test_size=0.5)"
   ]
  },
  {
   "cell_type": "code",
   "execution_count": 13,
   "metadata": {},
   "outputs": [
    {
     "name": "stdout",
     "output_type": "stream",
     "text": [
      "(1022, 10) (219, 10) (219, 10) (1022,) (219,) (219,)\n"
     ]
    }
   ],
   "source": [
    "print(X_train.shape, X_val.shape, X_test.shape, Y_train.shape, Y_val.shape, Y_test.shape)"
   ]
  },
  {
   "cell_type": "markdown",
   "metadata": {},
   "source": [
    "# Building and Training Our First Neural Network"
   ]
  },
  {
   "cell_type": "markdown",
   "metadata": {},
   "source": [
    "We will be using Keras to build our architecture. Let's import the code from Keras that we will need to use:"
   ]
  },
  {
   "cell_type": "code",
   "execution_count": 14,
   "metadata": {},
   "outputs": [],
   "source": [
    "from keras.models import Sequential\n",
    "from keras.layers import Dense"
   ]
  },
  {
   "cell_type": "markdown",
   "metadata": {},
   "source": [
    "We will be using the Sequential model, which means that we merely need to describe the layers above in sequence. Our neural network has three layers:\n",
    "\n",
    "- Hidden layer 1: 30 neurons, ReLU activation\n",
    "- Hidden layer 2: 30 neurons, ReLU activation\n",
    "- Output Layer: 1 neuron, Sigmoid activation"
   ]
  },
  {
   "cell_type": "code",
   "execution_count": 15,
   "metadata": {},
   "outputs": [],
   "source": [
    "model = Sequential([\n",
    "    Dense(32, activation='relu', input_shape=(10,)),\n",
    "    Dense(32, activation='relu'),\n",
    "    Dense(1, activation='sigmoid'),\n",
    "])"
   ]
  },
  {
   "cell_type": "markdown",
   "metadata": {},
   "source": [
    "Now that we've got our architecture specified, we need to find the best numbers for it. Before we start our training, we have to configure the model by\n",
    "- Telling it what algorithm you want to use to do the optimization (we'll use stochastic gradient descent)\n",
    "- Telling it what loss function to use (for binary classification, we will use binary cross entropy)\n",
    "- Telling it what other metrics you want to track apart from the loss function (we want to track accuracy as well)\n",
    "\n",
    "We do so below:"
   ]
  },
  {
   "cell_type": "code",
   "execution_count": 16,
   "metadata": {},
   "outputs": [],
   "source": [
    "model.compile(optimizer='sgd',\n",
    "              loss='binary_crossentropy',\n",
    "              metrics=['accuracy'])"
   ]
  },
  {
   "cell_type": "markdown",
   "metadata": {},
   "source": [
    "Training on the data is pretty straightforward and requires us to write one line of code. The function is called 'fit' as we are fitting the parameters to the data. We specify:\n",
    "- what data we are training on, which is X_train and Y_train\n",
    "- the size of our mini-batch \n",
    "- how long we want to train it for (epochs)\n",
    "- what our validation data is so that the model will tell us how we are doing on the validation data at each point.\n",
    "\n",
    "This function will output a history, which we save under the variable hist. We'll use this variable a little later."
   ]
  },
  {
   "cell_type": "code",
   "execution_count": 17,
   "metadata": {},
   "outputs": [
    {
     "name": "stdout",
     "output_type": "stream",
     "text": [
      "Epoch 1/100\n",
      "32/32 [==============================] - 0s 5ms/step - loss: 0.6778 - accuracy: 0.5166 - val_loss: 0.6860 - val_accuracy: 0.4795\n",
      "Epoch 2/100\n",
      "32/32 [==============================] - 0s 1ms/step - loss: 0.6720 - accuracy: 0.5176 - val_loss: 0.6806 - val_accuracy: 0.4795\n",
      "Epoch 3/100\n",
      "32/32 [==============================] - 0s 1ms/step - loss: 0.6659 - accuracy: 0.5176 - val_loss: 0.6751 - val_accuracy: 0.4795\n",
      "Epoch 4/100\n",
      "32/32 [==============================] - 0s 1ms/step - loss: 0.6596 - accuracy: 0.5196 - val_loss: 0.6697 - val_accuracy: 0.4795\n",
      "Epoch 5/100\n",
      "32/32 [==============================] - 0s 1ms/step - loss: 0.6532 - accuracy: 0.5205 - val_loss: 0.6634 - val_accuracy: 0.4795\n",
      "Epoch 6/100\n",
      "32/32 [==============================] - 0s 1ms/step - loss: 0.6467 - accuracy: 0.5294 - val_loss: 0.6571 - val_accuracy: 0.5068\n",
      "Epoch 7/100\n",
      "32/32 [==============================] - 0s 1ms/step - loss: 0.6402 - accuracy: 0.5509 - val_loss: 0.6507 - val_accuracy: 0.5434\n",
      "Epoch 8/100\n",
      "32/32 [==============================] - 0s 1ms/step - loss: 0.6341 - accuracy: 0.6076 - val_loss: 0.6446 - val_accuracy: 0.6210\n",
      "Epoch 9/100\n",
      "32/32 [==============================] - 0s 1ms/step - loss: 0.6281 - accuracy: 0.7045 - val_loss: 0.6391 - val_accuracy: 0.6575\n",
      "Epoch 10/100\n",
      "32/32 [==============================] - 0s 1ms/step - loss: 0.6222 - accuracy: 0.7427 - val_loss: 0.6334 - val_accuracy: 0.6941\n",
      "Epoch 11/100\n",
      "32/32 [==============================] - 0s 1ms/step - loss: 0.6162 - accuracy: 0.7593 - val_loss: 0.6278 - val_accuracy: 0.7078\n",
      "Epoch 12/100\n",
      "32/32 [==============================] - 0s 1ms/step - loss: 0.6099 - accuracy: 0.7769 - val_loss: 0.6220 - val_accuracy: 0.7123\n",
      "Epoch 13/100\n",
      "32/32 [==============================] - 0s 1ms/step - loss: 0.6033 - accuracy: 0.7818 - val_loss: 0.6158 - val_accuracy: 0.7215\n",
      "Epoch 14/100\n",
      "32/32 [==============================] - 0s 1ms/step - loss: 0.5965 - accuracy: 0.7857 - val_loss: 0.6093 - val_accuracy: 0.7260\n",
      "Epoch 15/100\n",
      "32/32 [==============================] - 0s 1ms/step - loss: 0.5894 - accuracy: 0.7955 - val_loss: 0.6029 - val_accuracy: 0.7260\n",
      "Epoch 16/100\n",
      "32/32 [==============================] - 0s 1ms/step - loss: 0.5822 - accuracy: 0.7975 - val_loss: 0.5952 - val_accuracy: 0.7397\n",
      "Epoch 17/100\n",
      "32/32 [==============================] - 0s 1ms/step - loss: 0.5746 - accuracy: 0.8063 - val_loss: 0.5877 - val_accuracy: 0.7763\n",
      "Epoch 18/100\n",
      "32/32 [==============================] - 0s 1ms/step - loss: 0.5668 - accuracy: 0.8258 - val_loss: 0.5803 - val_accuracy: 0.7854\n",
      "Epoch 19/100\n",
      "32/32 [==============================] - 0s 1ms/step - loss: 0.5589 - accuracy: 0.8317 - val_loss: 0.5727 - val_accuracy: 0.7945\n",
      "Epoch 20/100\n",
      "32/32 [==============================] - 0s 1ms/step - loss: 0.5507 - accuracy: 0.8249 - val_loss: 0.5643 - val_accuracy: 0.8037\n",
      "Epoch 21/100\n",
      "32/32 [==============================] - 0s 1ms/step - loss: 0.5422 - accuracy: 0.8444 - val_loss: 0.5566 - val_accuracy: 0.8037\n",
      "Epoch 22/100\n",
      "32/32 [==============================] - 0s 1ms/step - loss: 0.5334 - accuracy: 0.8425 - val_loss: 0.5473 - val_accuracy: 0.8219\n",
      "Epoch 23/100\n",
      "32/32 [==============================] - 0s 1ms/step - loss: 0.5244 - accuracy: 0.8493 - val_loss: 0.5381 - val_accuracy: 0.8311\n",
      "Epoch 24/100\n",
      "32/32 [==============================] - 0s 1ms/step - loss: 0.5150 - accuracy: 0.8601 - val_loss: 0.5296 - val_accuracy: 0.8311\n",
      "Epoch 25/100\n",
      "32/32 [==============================] - 0s 1ms/step - loss: 0.5051 - accuracy: 0.8571 - val_loss: 0.5196 - val_accuracy: 0.8311\n",
      "Epoch 26/100\n",
      "32/32 [==============================] - 0s 1ms/step - loss: 0.4957 - accuracy: 0.8650 - val_loss: 0.5113 - val_accuracy: 0.8311\n",
      "Epoch 27/100\n",
      "32/32 [==============================] - 0s 1ms/step - loss: 0.4863 - accuracy: 0.8640 - val_loss: 0.5021 - val_accuracy: 0.8356\n",
      "Epoch 28/100\n",
      "32/32 [==============================] - 0s 1ms/step - loss: 0.4771 - accuracy: 0.8699 - val_loss: 0.4937 - val_accuracy: 0.8402\n",
      "Epoch 29/100\n",
      "32/32 [==============================] - 0s 1ms/step - loss: 0.4681 - accuracy: 0.8718 - val_loss: 0.4864 - val_accuracy: 0.8356\n",
      "Epoch 30/100\n",
      "32/32 [==============================] - 0s 1ms/step - loss: 0.4599 - accuracy: 0.8708 - val_loss: 0.4785 - val_accuracy: 0.8356\n",
      "Epoch 31/100\n",
      "32/32 [==============================] - 0s 1ms/step - loss: 0.4515 - accuracy: 0.8718 - val_loss: 0.4688 - val_accuracy: 0.8356\n",
      "Epoch 32/100\n",
      "32/32 [==============================] - 0s 1ms/step - loss: 0.4435 - accuracy: 0.8738 - val_loss: 0.4620 - val_accuracy: 0.8493\n",
      "Epoch 33/100\n",
      "32/32 [==============================] - 0s 1ms/step - loss: 0.4356 - accuracy: 0.8718 - val_loss: 0.4538 - val_accuracy: 0.8356\n",
      "Epoch 34/100\n",
      "32/32 [==============================] - 0s 1ms/step - loss: 0.4282 - accuracy: 0.8748 - val_loss: 0.4472 - val_accuracy: 0.8493\n",
      "Epoch 35/100\n",
      "32/32 [==============================] - 0s 1ms/step - loss: 0.4208 - accuracy: 0.8748 - val_loss: 0.4406 - val_accuracy: 0.8447\n",
      "Epoch 36/100\n",
      "32/32 [==============================] - 0s 1ms/step - loss: 0.4139 - accuracy: 0.8738 - val_loss: 0.4327 - val_accuracy: 0.8402\n",
      "Epoch 37/100\n",
      "32/32 [==============================] - 0s 1ms/step - loss: 0.4068 - accuracy: 0.8738 - val_loss: 0.4291 - val_accuracy: 0.8584\n",
      "Epoch 38/100\n",
      "32/32 [==============================] - 0s 1ms/step - loss: 0.4005 - accuracy: 0.8757 - val_loss: 0.4198 - val_accuracy: 0.8447\n",
      "Epoch 39/100\n",
      "32/32 [==============================] - 0s 1ms/step - loss: 0.3942 - accuracy: 0.8767 - val_loss: 0.4140 - val_accuracy: 0.8493\n",
      "Epoch 40/100\n",
      "32/32 [==============================] - 0s 1ms/step - loss: 0.3879 - accuracy: 0.8816 - val_loss: 0.4101 - val_accuracy: 0.8584\n",
      "Epoch 41/100\n",
      "32/32 [==============================] - 0s 1ms/step - loss: 0.3826 - accuracy: 0.8757 - val_loss: 0.4029 - val_accuracy: 0.8630\n",
      "Epoch 42/100\n",
      "32/32 [==============================] - 0s 1ms/step - loss: 0.3769 - accuracy: 0.8748 - val_loss: 0.3967 - val_accuracy: 0.8584\n",
      "Epoch 43/100\n",
      "32/32 [==============================] - 0s 1ms/step - loss: 0.3717 - accuracy: 0.8806 - val_loss: 0.3915 - val_accuracy: 0.8539\n",
      "Epoch 44/100\n",
      "32/32 [==============================] - 0s 1ms/step - loss: 0.3667 - accuracy: 0.8767 - val_loss: 0.3869 - val_accuracy: 0.8584\n",
      "Epoch 45/100\n",
      "32/32 [==============================] - 0s 1ms/step - loss: 0.3618 - accuracy: 0.8777 - val_loss: 0.3824 - val_accuracy: 0.8539\n",
      "Epoch 46/100\n",
      "32/32 [==============================] - 0s 1ms/step - loss: 0.3573 - accuracy: 0.8757 - val_loss: 0.3771 - val_accuracy: 0.8493\n",
      "Epoch 47/100\n",
      "32/32 [==============================] - 0s 1ms/step - loss: 0.3532 - accuracy: 0.8748 - val_loss: 0.3752 - val_accuracy: 0.8676\n",
      "Epoch 48/100\n",
      "32/32 [==============================] - 0s 1ms/step - loss: 0.3490 - accuracy: 0.8757 - val_loss: 0.3725 - val_accuracy: 0.8721\n",
      "Epoch 49/100\n",
      "32/32 [==============================] - 0s 1ms/step - loss: 0.3453 - accuracy: 0.8738 - val_loss: 0.3682 - val_accuracy: 0.8676\n",
      "Epoch 50/100\n",
      "32/32 [==============================] - 0s 1ms/step - loss: 0.3415 - accuracy: 0.8757 - val_loss: 0.3629 - val_accuracy: 0.8584\n",
      "Epoch 51/100\n",
      "32/32 [==============================] - 0s 1ms/step - loss: 0.3377 - accuracy: 0.8806 - val_loss: 0.3598 - val_accuracy: 0.8584\n",
      "Epoch 52/100\n",
      "32/32 [==============================] - 0s 1ms/step - loss: 0.3346 - accuracy: 0.8787 - val_loss: 0.3586 - val_accuracy: 0.8630\n",
      "Epoch 53/100\n",
      "32/32 [==============================] - 0s 1ms/step - loss: 0.3314 - accuracy: 0.8806 - val_loss: 0.3560 - val_accuracy: 0.8584\n",
      "Epoch 54/100\n",
      "32/32 [==============================] - 0s 1ms/step - loss: 0.3276 - accuracy: 0.8796 - val_loss: 0.3498 - val_accuracy: 0.8584\n",
      "Epoch 55/100\n",
      "32/32 [==============================] - 0s 1ms/step - loss: 0.3250 - accuracy: 0.8836 - val_loss: 0.3509 - val_accuracy: 0.8584\n",
      "Epoch 56/100\n",
      "32/32 [==============================] - 0s 1ms/step - loss: 0.3222 - accuracy: 0.8816 - val_loss: 0.3442 - val_accuracy: 0.8539\n",
      "Epoch 57/100\n",
      "32/32 [==============================] - 0s 1ms/step - loss: 0.3198 - accuracy: 0.8816 - val_loss: 0.3446 - val_accuracy: 0.8630\n",
      "Epoch 58/100\n",
      "32/32 [==============================] - 0s 1ms/step - loss: 0.3174 - accuracy: 0.8826 - val_loss: 0.3421 - val_accuracy: 0.8630\n"
     ]
    },
    {
     "name": "stdout",
     "output_type": "stream",
     "text": [
      "Epoch 59/100\n",
      "32/32 [==============================] - 0s 1ms/step - loss: 0.3148 - accuracy: 0.8826 - val_loss: 0.3399 - val_accuracy: 0.8584\n",
      "Epoch 60/100\n",
      "32/32 [==============================] - 0s 1ms/step - loss: 0.3122 - accuracy: 0.8865 - val_loss: 0.3416 - val_accuracy: 0.8493\n",
      "Epoch 61/100\n",
      "32/32 [==============================] - 0s 1ms/step - loss: 0.3101 - accuracy: 0.8845 - val_loss: 0.3360 - val_accuracy: 0.8584\n",
      "Epoch 62/100\n",
      "32/32 [==============================] - 0s 1ms/step - loss: 0.3085 - accuracy: 0.8836 - val_loss: 0.3360 - val_accuracy: 0.8584\n",
      "Epoch 63/100\n",
      "32/32 [==============================] - 0s 1ms/step - loss: 0.3063 - accuracy: 0.8806 - val_loss: 0.3326 - val_accuracy: 0.8584\n",
      "Epoch 64/100\n",
      "32/32 [==============================] - 0s 1ms/step - loss: 0.3049 - accuracy: 0.8816 - val_loss: 0.3326 - val_accuracy: 0.8539\n",
      "Epoch 65/100\n",
      "32/32 [==============================] - 0s 1ms/step - loss: 0.3028 - accuracy: 0.8845 - val_loss: 0.3301 - val_accuracy: 0.8584\n",
      "Epoch 66/100\n",
      "32/32 [==============================] - 0s 1ms/step - loss: 0.3013 - accuracy: 0.8865 - val_loss: 0.3279 - val_accuracy: 0.8584\n",
      "Epoch 67/100\n",
      "32/32 [==============================] - 0s 1ms/step - loss: 0.2998 - accuracy: 0.8845 - val_loss: 0.3324 - val_accuracy: 0.8493\n",
      "Epoch 68/100\n",
      "32/32 [==============================] - 0s 1ms/step - loss: 0.2984 - accuracy: 0.8885 - val_loss: 0.3288 - val_accuracy: 0.8402\n",
      "Epoch 69/100\n",
      "32/32 [==============================] - 0s 1ms/step - loss: 0.2967 - accuracy: 0.8875 - val_loss: 0.3296 - val_accuracy: 0.8493\n",
      "Epoch 70/100\n",
      "32/32 [==============================] - 0s 1ms/step - loss: 0.2947 - accuracy: 0.8865 - val_loss: 0.3212 - val_accuracy: 0.8630\n",
      "Epoch 71/100\n",
      "32/32 [==============================] - 0s 1ms/step - loss: 0.2940 - accuracy: 0.8816 - val_loss: 0.3256 - val_accuracy: 0.8402\n",
      "Epoch 72/100\n",
      "32/32 [==============================] - 0s 1ms/step - loss: 0.2925 - accuracy: 0.8855 - val_loss: 0.3218 - val_accuracy: 0.8630\n",
      "Epoch 73/100\n",
      "32/32 [==============================] - 0s 1ms/step - loss: 0.2912 - accuracy: 0.8865 - val_loss: 0.3223 - val_accuracy: 0.8447\n",
      "Epoch 74/100\n",
      "32/32 [==============================] - 0s 1ms/step - loss: 0.2898 - accuracy: 0.8894 - val_loss: 0.3241 - val_accuracy: 0.8493\n",
      "Epoch 75/100\n",
      "32/32 [==============================] - 0s 1ms/step - loss: 0.2889 - accuracy: 0.8924 - val_loss: 0.3223 - val_accuracy: 0.8447\n",
      "Epoch 76/100\n",
      "32/32 [==============================] - 0s 1ms/step - loss: 0.2877 - accuracy: 0.8875 - val_loss: 0.3170 - val_accuracy: 0.8584\n",
      "Epoch 77/100\n",
      "32/32 [==============================] - 0s 1ms/step - loss: 0.2871 - accuracy: 0.8904 - val_loss: 0.3178 - val_accuracy: 0.8493\n",
      "Epoch 78/100\n",
      "32/32 [==============================] - 0s 1ms/step - loss: 0.2859 - accuracy: 0.8943 - val_loss: 0.3166 - val_accuracy: 0.8493\n",
      "Epoch 79/100\n",
      "32/32 [==============================] - 0s 1ms/step - loss: 0.2845 - accuracy: 0.8963 - val_loss: 0.3143 - val_accuracy: 0.8630\n",
      "Epoch 80/100\n",
      "32/32 [==============================] - 0s 1ms/step - loss: 0.2836 - accuracy: 0.8973 - val_loss: 0.3167 - val_accuracy: 0.8402\n",
      "Epoch 81/100\n",
      "32/32 [==============================] - 0s 1ms/step - loss: 0.2827 - accuracy: 0.8953 - val_loss: 0.3156 - val_accuracy: 0.8402\n",
      "Epoch 82/100\n",
      "32/32 [==============================] - 0s 1ms/step - loss: 0.2820 - accuracy: 0.8924 - val_loss: 0.3170 - val_accuracy: 0.8493\n",
      "Epoch 83/100\n",
      "32/32 [==============================] - 0s 1ms/step - loss: 0.2812 - accuracy: 0.8933 - val_loss: 0.3133 - val_accuracy: 0.8447\n",
      "Epoch 84/100\n",
      "32/32 [==============================] - 0s 1ms/step - loss: 0.2798 - accuracy: 0.8982 - val_loss: 0.3197 - val_accuracy: 0.8539\n",
      "Epoch 85/100\n",
      "32/32 [==============================] - 0s 1ms/step - loss: 0.2785 - accuracy: 0.8885 - val_loss: 0.3093 - val_accuracy: 0.8630\n",
      "Epoch 86/100\n",
      "32/32 [==============================] - 0s 1ms/step - loss: 0.2790 - accuracy: 0.8953 - val_loss: 0.3127 - val_accuracy: 0.8447\n",
      "Epoch 87/100\n",
      "32/32 [==============================] - 0s 1ms/step - loss: 0.2785 - accuracy: 0.8953 - val_loss: 0.3121 - val_accuracy: 0.8493\n",
      "Epoch 88/100\n",
      "32/32 [==============================] - 0s 1ms/step - loss: 0.2774 - accuracy: 0.8904 - val_loss: 0.3101 - val_accuracy: 0.8493\n",
      "Epoch 89/100\n",
      "32/32 [==============================] - 0s 1ms/step - loss: 0.2764 - accuracy: 0.9012 - val_loss: 0.3142 - val_accuracy: 0.8493\n",
      "Epoch 90/100\n",
      "32/32 [==============================] - 0s 1ms/step - loss: 0.2766 - accuracy: 0.8982 - val_loss: 0.3093 - val_accuracy: 0.8493\n",
      "Epoch 91/100\n",
      "32/32 [==============================] - 0s 1ms/step - loss: 0.2753 - accuracy: 0.8973 - val_loss: 0.3082 - val_accuracy: 0.8539\n",
      "Epoch 92/100\n",
      "32/32 [==============================] - 0s 1ms/step - loss: 0.2747 - accuracy: 0.8982 - val_loss: 0.3085 - val_accuracy: 0.8539\n",
      "Epoch 93/100\n",
      "32/32 [==============================] - 0s 1ms/step - loss: 0.2734 - accuracy: 0.8992 - val_loss: 0.3115 - val_accuracy: 0.8493\n",
      "Epoch 94/100\n",
      "32/32 [==============================] - 0s 1ms/step - loss: 0.2729 - accuracy: 0.8953 - val_loss: 0.3073 - val_accuracy: 0.8539\n",
      "Epoch 95/100\n",
      "32/32 [==============================] - 0s 1ms/step - loss: 0.2725 - accuracy: 0.8973 - val_loss: 0.3037 - val_accuracy: 0.8721\n",
      "Epoch 96/100\n",
      "32/32 [==============================] - 0s 1ms/step - loss: 0.2728 - accuracy: 0.8982 - val_loss: 0.3050 - val_accuracy: 0.8676\n",
      "Epoch 97/100\n",
      "32/32 [==============================] - 0s 1ms/step - loss: 0.2711 - accuracy: 0.8963 - val_loss: 0.3094 - val_accuracy: 0.8493\n",
      "Epoch 98/100\n",
      "32/32 [==============================] - 0s 1ms/step - loss: 0.2707 - accuracy: 0.8992 - val_loss: 0.3088 - val_accuracy: 0.8447\n",
      "Epoch 99/100\n",
      "32/32 [==============================] - 0s 1ms/step - loss: 0.2691 - accuracy: 0.8992 - val_loss: 0.3007 - val_accuracy: 0.8767\n",
      "Epoch 100/100\n",
      "32/32 [==============================] - 0s 1ms/step - loss: 0.2698 - accuracy: 0.8992 - val_loss: 0.3023 - val_accuracy: 0.8676\n"
     ]
    }
   ],
   "source": [
    "hist = model.fit(X_train, Y_train,\n",
    "          batch_size=32, epochs=100,\n",
    "          validation_data=(X_val, Y_val))"
   ]
  },
  {
   "cell_type": "markdown",
   "metadata": {},
   "source": [
    "Evaluating our data on the test set:"
   ]
  },
  {
   "cell_type": "code",
   "execution_count": 18,
   "metadata": {},
   "outputs": [
    {
     "name": "stdout",
     "output_type": "stream",
     "text": [
      "7/7 [==============================] - 0s 659us/step - loss: 0.2760 - accuracy: 0.8858\n"
     ]
    },
    {
     "data": {
      "text/plain": [
       "0.8858447670936584"
      ]
     },
     "execution_count": 18,
     "metadata": {},
     "output_type": "execute_result"
    }
   ],
   "source": [
    "model.evaluate(X_test, Y_test)[1]"
   ]
  },
  {
   "cell_type": "markdown",
   "metadata": {},
   "source": [
    "# Visualizing Loss and Accuracy"
   ]
  },
  {
   "cell_type": "markdown",
   "metadata": {},
   "source": [
    "Import the relevant package we need to do the visualization"
   ]
  },
  {
   "cell_type": "code",
   "execution_count": 19,
   "metadata": {},
   "outputs": [],
   "source": [
    "import matplotlib.pyplot as plt"
   ]
  },
  {
   "cell_type": "markdown",
   "metadata": {},
   "source": [
    "We want to visualize the training loss and the validation loss like this:"
   ]
  },
  {
   "cell_type": "code",
   "execution_count": 20,
   "metadata": {},
   "outputs": [
    {
     "data": {
      "image/png": "[encoded data removed]",
      "text/plain": [
       "<Figure size 432x288 with 1 Axes>"
      ]
     },
     "metadata": {
      "needs_background": "light"
     },
     "output_type": "display_data"
    }
   ],
   "source": [
    "plt.plot(hist.history['loss'])\n",
    "plt.plot(hist.history['val_loss'])\n",
    "plt.title('Model loss')\n",
    "plt.ylabel('Loss')\n",
    "plt.xlabel('Epoch')\n",
    "plt.legend(['Train', 'Val'], loc='upper right')\n",
    "plt.show()"
   ]
  },
  {
   "cell_type": "markdown",
   "metadata": {},
   "source": [
    "We can also visualize the training accuracy and the validation accuracy like this:"
   ]
  },
  {
   "cell_type": "code",
   "execution_count": 22,
   "metadata": {},
   "outputs": [
    {
     "data": {
      "image/png": "[encoded data removed]",
      "text/plain": [
       "<Figure size 432x288 with 1 Axes>"
      ]
     },
     "metadata": {
      "needs_background": "light"
     },
     "output_type": "display_data"
    }
   ],
   "source": [
    "plt.plot(hist.history['accuracy'])\n",
    "plt.plot(hist.history['val_accuracy'])\n",
    "plt.title('Model accuracy')\n",
    "plt.ylabel('Accuracy')\n",
    "plt.xlabel('Epoch')\n",
    "plt.legend(['Train', 'Val'], loc='lower right')\n",
    "plt.show()"
   ]
  },
  {
   "cell_type": "markdown",
   "metadata": {},
   "source": [
    "# Adding Regularization to our Neural Network"
   ]
  },
  {
   "cell_type": "markdown",
   "metadata": {},
   "source": [
    "We'll train a model which will overfit, which we call Model 2. This might take a few minutes."
   ]
  },
  {
   "cell_type": "code",
   "execution_count": 23,
   "metadata": {},
   "outputs": [
    {
     "name": "stdout",
     "output_type": "stream",
     "text": [
      "Epoch 1/100\n",
      "32/32 [==============================] - 0s 11ms/step - loss: 0.4469 - accuracy: 0.7975 - val_loss: 0.3874 - val_accuracy: 0.8174\n",
      "Epoch 2/100\n",
      "32/32 [==============================] - 0s 8ms/step - loss: 0.3104 - accuracy: 0.8650 - val_loss: 0.3448 - val_accuracy: 0.8402\n",
      "Epoch 3/100\n",
      "32/32 [==============================] - 0s 8ms/step - loss: 0.2820 - accuracy: 0.8826 - val_loss: 0.3838 - val_accuracy: 0.8402\n",
      "Epoch 4/100\n",
      "32/32 [==============================] - 0s 8ms/step - loss: 0.2772 - accuracy: 0.8855 - val_loss: 0.5625 - val_accuracy: 0.7443\n",
      "Epoch 5/100\n",
      "32/32 [==============================] - 0s 8ms/step - loss: 0.3023 - accuracy: 0.8757 - val_loss: 0.3442 - val_accuracy: 0.8676\n",
      "Epoch 6/100\n",
      "32/32 [==============================] - 0s 8ms/step - loss: 0.2737 - accuracy: 0.8914 - val_loss: 0.2864 - val_accuracy: 0.8676\n",
      "Epoch 7/100\n",
      "32/32 [==============================] - 0s 9ms/step - loss: 0.2610 - accuracy: 0.8875 - val_loss: 0.3930 - val_accuracy: 0.8128\n",
      "Epoch 8/100\n",
      "32/32 [==============================] - 0s 11ms/step - loss: 0.2727 - accuracy: 0.8865 - val_loss: 0.3428 - val_accuracy: 0.8813\n",
      "Epoch 9/100\n",
      "32/32 [==============================] - 0s 12ms/step - loss: 0.2418 - accuracy: 0.8904 - val_loss: 0.3070 - val_accuracy: 0.8676\n",
      "Epoch 10/100\n",
      "32/32 [==============================] - 0s 11ms/step - loss: 0.2652 - accuracy: 0.8973 - val_loss: 0.3474 - val_accuracy: 0.8356\n",
      "Epoch 11/100\n",
      "32/32 [==============================] - 0s 9ms/step - loss: 0.2695 - accuracy: 0.8904 - val_loss: 0.3791 - val_accuracy: 0.8128\n",
      "Epoch 12/100\n",
      "32/32 [==============================] - 0s 9ms/step - loss: 0.2603 - accuracy: 0.8875 - val_loss: 0.4062 - val_accuracy: 0.8265\n",
      "Epoch 13/100\n",
      "32/32 [==============================] - 0s 12ms/step - loss: 0.2378 - accuracy: 0.9090 - val_loss: 0.2877 - val_accuracy: 0.8995\n",
      "Epoch 14/100\n",
      "32/32 [==============================] - 0s 12ms/step - loss: 0.2302 - accuracy: 0.9051 - val_loss: 0.3374 - val_accuracy: 0.8356\n",
      "Epoch 15/100\n",
      "32/32 [==============================] - 0s 10ms/step - loss: 0.2247 - accuracy: 0.9070 - val_loss: 0.3161 - val_accuracy: 0.8630\n",
      "Epoch 16/100\n",
      "32/32 [==============================] - 0s 11ms/step - loss: 0.2322 - accuracy: 0.8943 - val_loss: 0.2927 - val_accuracy: 0.8904\n",
      "Epoch 17/100\n",
      "32/32 [==============================] - 0s 11ms/step - loss: 0.2382 - accuracy: 0.9051 - val_loss: 0.2923 - val_accuracy: 0.8767\n",
      "Epoch 18/100\n",
      "32/32 [==============================] - 0s 8ms/step - loss: 0.2138 - accuracy: 0.9090 - val_loss: 0.3158 - val_accuracy: 0.8402\n",
      "Epoch 19/100\n",
      "32/32 [==============================] - 0s 8ms/step - loss: 0.2198 - accuracy: 0.9022 - val_loss: 0.2937 - val_accuracy: 0.8630\n",
      "Epoch 20/100\n",
      "32/32 [==============================] - 0s 9ms/step - loss: 0.2107 - accuracy: 0.9012 - val_loss: 0.2838 - val_accuracy: 0.9041\n",
      "Epoch 21/100\n",
      "32/32 [==============================] - 0s 11ms/step - loss: 0.2166 - accuracy: 0.9119 - val_loss: 0.2999 - val_accuracy: 0.8767\n",
      "Epoch 22/100\n",
      "32/32 [==============================] - 0s 11ms/step - loss: 0.2055 - accuracy: 0.9100 - val_loss: 0.3053 - val_accuracy: 0.8721\n",
      "Epoch 23/100\n",
      "32/32 [==============================] - 0s 9ms/step - loss: 0.2307 - accuracy: 0.9031 - val_loss: 0.3431 - val_accuracy: 0.8311\n",
      "Epoch 24/100\n",
      "32/32 [==============================] - 0s 9ms/step - loss: 0.2105 - accuracy: 0.9129 - val_loss: 0.3127 - val_accuracy: 0.8767\n",
      "Epoch 25/100\n",
      "32/32 [==============================] - 0s 8ms/step - loss: 0.2159 - accuracy: 0.9159 - val_loss: 0.3441 - val_accuracy: 0.8813\n",
      "Epoch 26/100\n",
      "32/32 [==============================] - 0s 13ms/step - loss: 0.2021 - accuracy: 0.9168 - val_loss: 0.2652 - val_accuracy: 0.8995\n",
      "Epoch 27/100\n",
      "32/32 [==============================] - 0s 10ms/step - loss: 0.2152 - accuracy: 0.9051 - val_loss: 0.3622 - val_accuracy: 0.8311\n",
      "Epoch 28/100\n",
      "32/32 [==============================] - 0s 8ms/step - loss: 0.2220 - accuracy: 0.8992 - val_loss: 0.2796 - val_accuracy: 0.8950\n",
      "Epoch 29/100\n",
      "32/32 [==============================] - 0s 13ms/step - loss: 0.2041 - accuracy: 0.9070 - val_loss: 0.3009 - val_accuracy: 0.8813\n",
      "Epoch 30/100\n",
      "32/32 [==============================] - 0s 13ms/step - loss: 0.2004 - accuracy: 0.9119 - val_loss: 0.2904 - val_accuracy: 0.8904\n",
      "Epoch 31/100\n",
      "32/32 [==============================] - 0s 14ms/step - loss: 0.1997 - accuracy: 0.9237 - val_loss: 0.2975 - val_accuracy: 0.8858\n",
      "Epoch 32/100\n",
      "32/32 [==============================] - 0s 14ms/step - loss: 0.1966 - accuracy: 0.9100 - val_loss: 0.3055 - val_accuracy: 0.8950\n",
      "Epoch 33/100\n",
      "32/32 [==============================] - 0s 13ms/step - loss: 0.2172 - accuracy: 0.9188 - val_loss: 0.2853 - val_accuracy: 0.9132\n",
      "Epoch 34/100\n",
      "32/32 [==============================] - 0s 12ms/step - loss: 0.1976 - accuracy: 0.9149 - val_loss: 0.2830 - val_accuracy: 0.8904\n",
      "Epoch 35/100\n",
      "32/32 [==============================] - 0s 8ms/step - loss: 0.1903 - accuracy: 0.9198 - val_loss: 0.2865 - val_accuracy: 0.8858\n",
      "Epoch 36/100\n",
      "32/32 [==============================] - 0s 8ms/step - loss: 0.1971 - accuracy: 0.9227 - val_loss: 0.2744 - val_accuracy: 0.9041\n",
      "Epoch 37/100\n",
      "32/32 [==============================] - 0s 8ms/step - loss: 0.2134 - accuracy: 0.9070 - val_loss: 0.2858 - val_accuracy: 0.8995\n",
      "Epoch 38/100\n",
      "32/32 [==============================] - 0s 9ms/step - loss: 0.1938 - accuracy: 0.9217 - val_loss: 0.2885 - val_accuracy: 0.8767\n",
      "Epoch 39/100\n",
      "32/32 [==============================] - 0s 11ms/step - loss: 0.1760 - accuracy: 0.9295 - val_loss: 0.2985 - val_accuracy: 0.8813\n",
      "Epoch 40/100\n",
      "32/32 [==============================] - 0s 12ms/step - loss: 0.1869 - accuracy: 0.9207 - val_loss: 0.3040 - val_accuracy: 0.8813\n",
      "Epoch 41/100\n",
      "32/32 [==============================] - 0s 9ms/step - loss: 0.1935 - accuracy: 0.9178 - val_loss: 0.2853 - val_accuracy: 0.9041\n",
      "Epoch 42/100\n",
      "32/32 [==============================] - 0s 8ms/step - loss: 0.1864 - accuracy: 0.9305 - val_loss: 0.2565 - val_accuracy: 0.9041\n",
      "Epoch 43/100\n",
      "32/32 [==============================] - 0s 8ms/step - loss: 0.1790 - accuracy: 0.9217 - val_loss: 0.3140 - val_accuracy: 0.8904\n",
      "Epoch 44/100\n",
      "32/32 [==============================] - 0s 8ms/step - loss: 0.1669 - accuracy: 0.9286 - val_loss: 0.3108 - val_accuracy: 0.8858\n",
      "Epoch 45/100\n",
      "32/32 [==============================] - 0s 8ms/step - loss: 0.1737 - accuracy: 0.9295 - val_loss: 0.4063 - val_accuracy: 0.8676\n",
      "Epoch 46/100\n",
      "32/32 [==============================] - 0s 8ms/step - loss: 0.1883 - accuracy: 0.9198 - val_loss: 0.3346 - val_accuracy: 0.8676\n",
      "Epoch 47/100\n",
      "32/32 [==============================] - 0s 8ms/step - loss: 0.1810 - accuracy: 0.9207 - val_loss: 0.3203 - val_accuracy: 0.8950\n",
      "Epoch 48/100\n",
      "32/32 [==============================] - 0s 8ms/step - loss: 0.1760 - accuracy: 0.9237 - val_loss: 0.2810 - val_accuracy: 0.9041\n",
      "Epoch 49/100\n",
      "32/32 [==============================] - 0s 9ms/step - loss: 0.1847 - accuracy: 0.9266 - val_loss: 0.2703 - val_accuracy: 0.8950\n",
      "Epoch 50/100\n",
      "32/32 [==============================] - 0s 9ms/step - loss: 0.1804 - accuracy: 0.9207 - val_loss: 0.3054 - val_accuracy: 0.8858\n",
      "Epoch 51/100\n",
      "32/32 [==============================] - 0s 8ms/step - loss: 0.1865 - accuracy: 0.9237 - val_loss: 0.2868 - val_accuracy: 0.8904\n",
      "Epoch 52/100\n",
      "32/32 [==============================] - 0s 8ms/step - loss: 0.1704 - accuracy: 0.9256 - val_loss: 0.2961 - val_accuracy: 0.8904\n",
      "Epoch 53/100\n",
      "32/32 [==============================] - 0s 9ms/step - loss: 0.1725 - accuracy: 0.9217 - val_loss: 0.3751 - val_accuracy: 0.8858\n",
      "Epoch 54/100\n",
      "32/32 [==============================] - 0s 9ms/step - loss: 0.1762 - accuracy: 0.9335 - val_loss: 0.2468 - val_accuracy: 0.9041\n",
      "Epoch 55/100\n",
      "32/32 [==============================] - 0s 9ms/step - loss: 0.1700 - accuracy: 0.9188 - val_loss: 0.2805 - val_accuracy: 0.8995\n",
      "Epoch 56/100\n",
      "32/32 [==============================] - 0s 9ms/step - loss: 0.1689 - accuracy: 0.9247 - val_loss: 0.3319 - val_accuracy: 0.8813\n",
      "Epoch 57/100\n",
      "32/32 [==============================] - 0s 9ms/step - loss: 0.1747 - accuracy: 0.9286 - val_loss: 0.3020 - val_accuracy: 0.8858\n",
      "Epoch 58/100\n",
      "32/32 [==============================] - 0s 9ms/step - loss: 0.1677 - accuracy: 0.9266 - val_loss: 0.3874 - val_accuracy: 0.8311\n",
      "Epoch 59/100\n",
      "32/32 [==============================] - 0s 8ms/step - loss: 0.1655 - accuracy: 0.9286 - val_loss: 0.3318 - val_accuracy: 0.9041\n",
      "Epoch 60/100\n",
      "32/32 [==============================] - 0s 9ms/step - loss: 0.1533 - accuracy: 0.9266 - val_loss: 0.3342 - val_accuracy: 0.8858\n",
      "Epoch 61/100\n",
      "32/32 [==============================] - 0s 9ms/step - loss: 0.1449 - accuracy: 0.9344 - val_loss: 0.3810 - val_accuracy: 0.8950\n",
      "Epoch 62/100\n",
      "32/32 [==============================] - 0s 9ms/step - loss: 0.1757 - accuracy: 0.9295 - val_loss: 0.3517 - val_accuracy: 0.8995\n",
      "Epoch 63/100\n",
      "32/32 [==============================] - 0s 8ms/step - loss: 0.1655 - accuracy: 0.9286 - val_loss: 0.3493 - val_accuracy: 0.8858\n",
      "Epoch 64/100\n",
      "32/32 [==============================] - 0s 8ms/step - loss: 0.1526 - accuracy: 0.9374 - val_loss: 0.3796 - val_accuracy: 0.8813\n",
      "Epoch 65/100\n",
      "32/32 [==============================] - 0s 8ms/step - loss: 0.1538 - accuracy: 0.9237 - val_loss: 0.2978 - val_accuracy: 0.9132\n",
      "Epoch 66/100\n",
      "32/32 [==============================] - 0s 8ms/step - loss: 0.1635 - accuracy: 0.9256 - val_loss: 0.3396 - val_accuracy: 0.8858\n",
      "Epoch 67/100\n",
      "32/32 [==============================] - 0s 9ms/step - loss: 0.1436 - accuracy: 0.9413 - val_loss: 0.3381 - val_accuracy: 0.8995\n",
      "Epoch 68/100\n",
      "32/32 [==============================] - 0s 9ms/step - loss: 0.1464 - accuracy: 0.9354 - val_loss: 0.3552 - val_accuracy: 0.8721\n",
      "Epoch 69/100\n",
      "32/32 [==============================] - 0s 8ms/step - loss: 0.1603 - accuracy: 0.9364 - val_loss: 0.3816 - val_accuracy: 0.8858\n",
      "Epoch 70/100\n",
      "32/32 [==============================] - 0s 9ms/step - loss: 0.1814 - accuracy: 0.9247 - val_loss: 0.3526 - val_accuracy: 0.8767\n",
      "Epoch 71/100\n",
      "32/32 [==============================] - 0s 9ms/step - loss: 0.1755 - accuracy: 0.9295 - val_loss: 0.3256 - val_accuracy: 0.8904\n",
      "Epoch 72/100\n",
      "32/32 [==============================] - 0s 8ms/step - loss: 0.1608 - accuracy: 0.9295 - val_loss: 0.3498 - val_accuracy: 0.8904\n",
      "Epoch 73/100\n",
      "32/32 [==============================] - 0s 8ms/step - loss: 0.1446 - accuracy: 0.9393 - val_loss: 0.3595 - val_accuracy: 0.9041\n",
      "Epoch 74/100\n",
      "32/32 [==============================] - 0s 9ms/step - loss: 0.1333 - accuracy: 0.9432 - val_loss: 0.3856 - val_accuracy: 0.9041\n",
      "Epoch 75/100\n",
      "32/32 [==============================] - 0s 8ms/step - loss: 0.1339 - accuracy: 0.9442 - val_loss: 0.3415 - val_accuracy: 0.9087\n",
      "Epoch 76/100\n",
      "32/32 [==============================] - 0s 8ms/step - loss: 0.1580 - accuracy: 0.9344 - val_loss: 0.3177 - val_accuracy: 0.9178\n",
      "Epoch 77/100\n",
      "32/32 [==============================] - 0s 8ms/step - loss: 0.1414 - accuracy: 0.9295 - val_loss: 0.3335 - val_accuracy: 0.9087\n",
      "Epoch 78/100\n",
      "32/32 [==============================] - 0s 8ms/step - loss: 0.1531 - accuracy: 0.9374 - val_loss: 0.3404 - val_accuracy: 0.8630\n",
      "Epoch 79/100\n",
      "32/32 [==============================] - 0s 8ms/step - loss: 0.1596 - accuracy: 0.9237 - val_loss: 0.3812 - val_accuracy: 0.8904\n",
      "Epoch 80/100\n",
      "32/32 [==============================] - 0s 8ms/step - loss: 0.1309 - accuracy: 0.9452 - val_loss: 0.3926 - val_accuracy: 0.8904\n",
      "Epoch 81/100\n",
      "32/32 [==============================] - 0s 8ms/step - loss: 0.1502 - accuracy: 0.9374 - val_loss: 0.3921 - val_accuracy: 0.8904\n",
      "Epoch 82/100\n",
      "32/32 [==============================] - 0s 8ms/step - loss: 0.1583 - accuracy: 0.9286 - val_loss: 0.3141 - val_accuracy: 0.8813\n",
      "Epoch 83/100\n",
      "32/32 [==============================] - 0s 8ms/step - loss: 0.1438 - accuracy: 0.9432 - val_loss: 0.3391 - val_accuracy: 0.8995\n",
      "Epoch 84/100\n",
      "32/32 [==============================] - 0s 8ms/step - loss: 0.1323 - accuracy: 0.9481 - val_loss: 0.3781 - val_accuracy: 0.8904\n",
      "Epoch 85/100\n",
      "32/32 [==============================] - 0s 8ms/step - loss: 0.1302 - accuracy: 0.9452 - val_loss: 0.4100 - val_accuracy: 0.8904\n",
      "Epoch 86/100\n",
      "32/32 [==============================] - 0s 8ms/step - loss: 0.1506 - accuracy: 0.9374 - val_loss: 0.4300 - val_accuracy: 0.8904\n",
      "Epoch 87/100\n",
      "32/32 [==============================] - 0s 9ms/step - loss: 0.1424 - accuracy: 0.9393 - val_loss: 0.3391 - val_accuracy: 0.9041\n",
      "Epoch 88/100\n",
      "32/32 [==============================] - 0s 8ms/step - loss: 0.1207 - accuracy: 0.9472 - val_loss: 0.4175 - val_accuracy: 0.9041\n",
      "Epoch 89/100\n",
      "32/32 [==============================] - 0s 8ms/step - loss: 0.1311 - accuracy: 0.9452 - val_loss: 0.4991 - val_accuracy: 0.8950\n",
      "Epoch 90/100\n",
      "32/32 [==============================] - 0s 9ms/step - loss: 0.1271 - accuracy: 0.9413 - val_loss: 0.3431 - val_accuracy: 0.8995\n",
      "Epoch 91/100\n",
      "32/32 [==============================] - 0s 8ms/step - loss: 0.1301 - accuracy: 0.9491 - val_loss: 0.4242 - val_accuracy: 0.8767\n",
      "Epoch 92/100\n",
      "32/32 [==============================] - 0s 10ms/step - loss: 0.1498 - accuracy: 0.9374 - val_loss: 0.3828 - val_accuracy: 0.8721\n",
      "Epoch 93/100\n",
      "32/32 [==============================] - 0s 9ms/step - loss: 0.1325 - accuracy: 0.9462 - val_loss: 0.4175 - val_accuracy: 0.8676\n",
      "Epoch 94/100\n",
      "32/32 [==============================] - 0s 8ms/step - loss: 0.1280 - accuracy: 0.9462 - val_loss: 0.3960 - val_accuracy: 0.9041\n",
      "Epoch 95/100\n",
      "32/32 [==============================] - 0s 10ms/step - loss: 0.1207 - accuracy: 0.9501 - val_loss: 0.4944 - val_accuracy: 0.8493\n",
      "Epoch 96/100\n",
      "32/32 [==============================] - 0s 10ms/step - loss: 0.1261 - accuracy: 0.9403 - val_loss: 0.5008 - val_accuracy: 0.8447\n",
      "Epoch 97/100\n",
      "32/32 [==============================] - 0s 9ms/step - loss: 0.1233 - accuracy: 0.9521 - val_loss: 0.5178 - val_accuracy: 0.8904\n",
      "Epoch 98/100\n",
      "32/32 [==============================] - 0s 8ms/step - loss: 0.1096 - accuracy: 0.9521 - val_loss: 0.4825 - val_accuracy: 0.8676\n",
      "Epoch 99/100\n",
      "32/32 [==============================] - 0s 8ms/step - loss: 0.1131 - accuracy: 0.9501 - val_loss: 0.3766 - val_accuracy: 0.8813\n",
      "Epoch 100/100\n",
      "32/32 [==============================] - 0s 8ms/step - loss: 0.1063 - accuracy: 0.9599 - val_loss: 0.4600 - val_accuracy: 0.8950\n"
     ]
    }
   ],
   "source": [
    "model_2 = Sequential([\n",
    "    Dense(1000, activation='relu', input_shape=(10,)),\n",
    "    Dense(1000, activation='relu'),\n",
    "    Dense(1000, activation='relu'),\n",
    "    Dense(1000, activation='relu'),\n",
    "    Dense(1, activation='sigmoid'),\n",
    "])\n",
    "model_2.compile(optimizer='adam',\n",
    "              loss='binary_crossentropy',\n",
    "              metrics=['accuracy'])\n",
    "hist_2 = model_2.fit(X_train, Y_train,\n",
    "          batch_size=32, epochs=100,\n",
    "          validation_data=(X_val, Y_val))"
   ]
  },
  {
   "cell_type": "markdown",
   "metadata": {},
   "source": [
    "Let's do the same visualization to see what overfitting looks like in terms of the loss and accuracy."
   ]
  },
  {
   "cell_type": "code",
   "execution_count": 24,
   "metadata": {},
   "outputs": [
    {
     "data": {
      "image/png": "[encoded data removed]",
      "text/plain": [
       "<Figure size 432x288 with 1 Axes>"
      ]
     },
     "metadata": {
      "needs_background": "light"
     },
     "output_type": "display_data"
    }
   ],
   "source": [
    "plt.plot(hist_2.history['loss'])\n",
    "plt.plot(hist_2.history['val_loss'])\n",
    "plt.title('Model loss')\n",
    "plt.ylabel('Loss')\n",
    "plt.xlabel('Epoch')\n",
    "plt.legend(['Train', 'Val'], loc='upper right')\n",
    "plt.show()"
   ]
  },
  {
   "cell_type": "code",
   "execution_count": 25,
   "metadata": {},
   "outputs": [
    {
     "data": {
      "image/png": "[encoded data removed]",
      "text/plain": [
       "<Figure size 432x288 with 1 Axes>"
      ]
     },
     "metadata": {
      "needs_background": "light"
     },
     "output_type": "display_data"
    }
   ],
   "source": [
    "plt.plot(hist_2.history['accuracy'])\n",
    "plt.plot(hist_2.history['val_accuracy'])\n",
    "plt.title('Model accuracy')\n",
    "plt.ylabel('Accuracy')\n",
    "plt.xlabel('Epoch')\n",
    "plt.legend(['Train', 'Val'], loc='lower right')\n",
    "plt.show()"
   ]
  },
  {
   "cell_type": "markdown",
   "metadata": {},
   "source": [
    "To address the overfitting we see in Model 2, we'll incorporate L2 regularization and dropout in our third model here (Model 3)."
   ]
  },
  {
   "cell_type": "code",
   "execution_count": 26,
   "metadata": {},
   "outputs": [],
   "source": [
    "from keras.layers import Dropout\n",
    "from keras import regularizers"
   ]
  },
  {
   "cell_type": "code",
   "execution_count": 31,
   "metadata": {},
   "outputs": [],
   "source": [
    "model_3 = Sequential([\n",
    "    Dense(1000, activation='relu', kernel_regularizer=regularizers.l2(0.01), input_shape=(10,)),\n",
    "    Dropout(0.3),\n",
    "    Dense(1000, activation='relu', kernel_regularizer=regularizers.l2(0.01)),\n",
    "    Dropout(0.3),\n",
    "    Dense(1000, activation='relu', kernel_regularizer=regularizers.l2(0.01)),\n",
    "    Dropout(0.3),\n",
    "    Dense(1000, activation='relu', kernel_regularizer=regularizers.l2(0.01)),\n",
    "    Dropout(0.3),\n",
    "    Dense(1, activation='sigmoid', kernel_regularizer=regularizers.l2(0.01)),\n",
    "])"
   ]
  },
  {
   "cell_type": "code",
   "execution_count": 32,
   "metadata": {},
   "outputs": [
    {
     "name": "stdout",
     "output_type": "stream",
     "text": [
      "Epoch 1/100\n",
      "32/32 [==============================] - 0s 15ms/step - loss: 14.2414 - accuracy: 0.6663 - val_loss: 3.9388 - val_accuracy: 0.7078\n",
      "Epoch 2/100\n",
      "32/32 [==============================] - 0s 12ms/step - loss: 1.6776 - accuracy: 0.8356 - val_loss: 0.7193 - val_accuracy: 0.8584\n",
      "Epoch 3/100\n",
      "32/32 [==============================] - 0s 12ms/step - loss: 0.5793 - accuracy: 0.8718 - val_loss: 0.5527 - val_accuracy: 0.8630\n",
      "Epoch 4/100\n",
      "32/32 [==============================] - 0s 12ms/step - loss: 0.5013 - accuracy: 0.8796 - val_loss: 0.5146 - val_accuracy: 0.8721\n",
      "Epoch 5/100\n",
      "32/32 [==============================] - 0s 12ms/step - loss: 0.5026 - accuracy: 0.8650 - val_loss: 0.4989 - val_accuracy: 0.8630\n",
      "Epoch 6/100\n",
      "32/32 [==============================] - 0s 12ms/step - loss: 0.4822 - accuracy: 0.8836 - val_loss: 0.4782 - val_accuracy: 0.8676\n",
      "Epoch 7/100\n",
      "32/32 [==============================] - 0s 13ms/step - loss: 0.4848 - accuracy: 0.8767 - val_loss: 0.4849 - val_accuracy: 0.8493\n",
      "Epoch 8/100\n",
      "32/32 [==============================] - 1s 18ms/step - loss: 0.4547 - accuracy: 0.8953 - val_loss: 0.5588 - val_accuracy: 0.8265\n",
      "Epoch 9/100\n",
      "32/32 [==============================] - 1s 20ms/step - loss: 0.4703 - accuracy: 0.8875 - val_loss: 0.4729 - val_accuracy: 0.8721\n",
      "Epoch 10/100\n",
      "32/32 [==============================] - 0s 13ms/step - loss: 0.4636 - accuracy: 0.8796 - val_loss: 0.5753 - val_accuracy: 0.8219\n",
      "Epoch 11/100\n",
      "32/32 [==============================] - 1s 16ms/step - loss: 0.4592 - accuracy: 0.8826 - val_loss: 0.4788 - val_accuracy: 0.8676\n",
      "Epoch 12/100\n",
      "32/32 [==============================] - 0s 13ms/step - loss: 0.4572 - accuracy: 0.8796 - val_loss: 0.5871 - val_accuracy: 0.7991\n",
      "Epoch 13/100\n",
      "32/32 [==============================] - 1s 17ms/step - loss: 0.4532 - accuracy: 0.8855 - val_loss: 0.4552 - val_accuracy: 0.8767\n",
      "Epoch 14/100\n",
      "32/32 [==============================] - 0s 14ms/step - loss: 0.4367 - accuracy: 0.8894 - val_loss: 0.4885 - val_accuracy: 0.8584\n",
      "Epoch 15/100\n",
      "32/32 [==============================] - 0s 15ms/step - loss: 0.4632 - accuracy: 0.8787 - val_loss: 0.4835 - val_accuracy: 0.8584\n",
      "Epoch 16/100\n",
      "32/32 [==============================] - 1s 17ms/step - loss: 0.4458 - accuracy: 0.8963 - val_loss: 0.4671 - val_accuracy: 0.8539\n",
      "Epoch 17/100\n",
      "32/32 [==============================] - 1s 18ms/step - loss: 0.4524 - accuracy: 0.8787 - val_loss: 0.5845 - val_accuracy: 0.8174\n",
      "Epoch 18/100\n",
      "32/32 [==============================] - 1s 16ms/step - loss: 0.4483 - accuracy: 0.8894 - val_loss: 0.4543 - val_accuracy: 0.8858\n",
      "Epoch 19/100\n",
      "32/32 [==============================] - 1s 16ms/step - loss: 0.4499 - accuracy: 0.8914 - val_loss: 0.4536 - val_accuracy: 0.8904\n",
      "Epoch 20/100\n",
      "32/32 [==============================] - 0s 13ms/step - loss: 0.4415 - accuracy: 0.8904 - val_loss: 0.4694 - val_accuracy: 0.8676\n",
      "Epoch 21/100\n",
      "32/32 [==============================] - 1s 16ms/step - loss: 0.4269 - accuracy: 0.8933 - val_loss: 0.4602 - val_accuracy: 0.8676\n",
      "Epoch 22/100\n",
      "32/32 [==============================] - 0s 13ms/step - loss: 0.4322 - accuracy: 0.8875 - val_loss: 0.4619 - val_accuracy: 0.8630\n",
      "Epoch 23/100\n",
      "32/32 [==============================] - 0s 15ms/step - loss: 0.4274 - accuracy: 0.8924 - val_loss: 0.5040 - val_accuracy: 0.8447\n",
      "Epoch 24/100\n",
      "32/32 [==============================] - 1s 16ms/step - loss: 0.4282 - accuracy: 0.8924 - val_loss: 0.4483 - val_accuracy: 0.8904\n",
      "Epoch 25/100\n",
      "32/32 [==============================] - 1s 17ms/step - loss: 0.4421 - accuracy: 0.8796 - val_loss: 0.4837 - val_accuracy: 0.8493\n",
      "Epoch 26/100\n",
      "32/32 [==============================] - 0s 13ms/step - loss: 0.4319 - accuracy: 0.8885 - val_loss: 0.4827 - val_accuracy: 0.8493\n",
      "Epoch 27/100\n",
      "32/32 [==============================] - 1s 20ms/step - loss: 0.4575 - accuracy: 0.8728 - val_loss: 0.4546 - val_accuracy: 0.8813\n",
      "Epoch 28/100\n",
      "32/32 [==============================] - 1s 17ms/step - loss: 0.4619 - accuracy: 0.8816 - val_loss: 0.4971 - val_accuracy: 0.8493\n",
      "Epoch 29/100\n",
      "32/32 [==============================] - 1s 17ms/step - loss: 0.4375 - accuracy: 0.8836 - val_loss: 0.4656 - val_accuracy: 0.8584\n",
      "Epoch 30/100\n",
      "32/32 [==============================] - 1s 16ms/step - loss: 0.4316 - accuracy: 0.8875 - val_loss: 0.4686 - val_accuracy: 0.8584\n",
      "Epoch 31/100\n",
      "32/32 [==============================] - 0s 13ms/step - loss: 0.4396 - accuracy: 0.8826 - val_loss: 0.4762 - val_accuracy: 0.8539\n",
      "Epoch 32/100\n",
      "32/32 [==============================] - 1s 18ms/step - loss: 0.4401 - accuracy: 0.8836 - val_loss: 0.4470 - val_accuracy: 0.8813\n",
      "Epoch 33/100\n",
      "32/32 [==============================] - 1s 18ms/step - loss: 0.4366 - accuracy: 0.8757 - val_loss: 0.4695 - val_accuracy: 0.8630\n",
      "Epoch 34/100\n",
      "32/32 [==============================] - 1s 16ms/step - loss: 0.4345 - accuracy: 0.8885 - val_loss: 0.5535 - val_accuracy: 0.8265\n",
      "Epoch 35/100\n",
      "32/32 [==============================] - 0s 15ms/step - loss: 0.4429 - accuracy: 0.8914 - val_loss: 0.4554 - val_accuracy: 0.8721\n",
      "Epoch 36/100\n",
      "32/32 [==============================] - 0s 13ms/step - loss: 0.4211 - accuracy: 0.8953 - val_loss: 0.4477 - val_accuracy: 0.8858\n",
      "Epoch 37/100\n",
      "32/32 [==============================] - 0s 11ms/step - loss: 0.4231 - accuracy: 0.8973 - val_loss: 0.4506 - val_accuracy: 0.8676\n",
      "Epoch 38/100\n",
      "32/32 [==============================] - 0s 12ms/step - loss: 0.4336 - accuracy: 0.8845 - val_loss: 0.4449 - val_accuracy: 0.8858\n",
      "Epoch 39/100\n",
      "32/32 [==============================] - 0s 13ms/step - loss: 0.4411 - accuracy: 0.8914 - val_loss: 0.4668 - val_accuracy: 0.8676\n",
      "Epoch 40/100\n",
      "32/32 [==============================] - 0s 13ms/step - loss: 0.4346 - accuracy: 0.8806 - val_loss: 0.4448 - val_accuracy: 0.8767\n",
      "Epoch 41/100\n",
      "32/32 [==============================] - 0s 12ms/step - loss: 0.4354 - accuracy: 0.8845 - val_loss: 0.4603 - val_accuracy: 0.8676\n",
      "Epoch 42/100\n",
      "32/32 [==============================] - 1s 16ms/step - loss: 0.4374 - accuracy: 0.8855 - val_loss: 0.5353 - val_accuracy: 0.8219\n",
      "Epoch 43/100\n",
      "32/32 [==============================] - 0s 15ms/step - loss: 0.4439 - accuracy: 0.8787 - val_loss: 0.4533 - val_accuracy: 0.8813\n",
      "Epoch 44/100\n",
      "32/32 [==============================] - 0s 14ms/step - loss: 0.4348 - accuracy: 0.8855 - val_loss: 0.4470 - val_accuracy: 0.8721\n",
      "Epoch 45/100\n",
      "32/32 [==============================] - 0s 12ms/step - loss: 0.4332 - accuracy: 0.8885 - val_loss: 0.4458 - val_accuracy: 0.8904\n",
      "Epoch 46/100\n",
      "32/32 [==============================] - 0s 13ms/step - loss: 0.4419 - accuracy: 0.8943 - val_loss: 0.4458 - val_accuracy: 0.8950\n",
      "Epoch 47/100\n",
      "32/32 [==============================] - 0s 13ms/step - loss: 0.4407 - accuracy: 0.8826 - val_loss: 0.5491 - val_accuracy: 0.8311\n",
      "Epoch 48/100\n",
      "32/32 [==============================] - 0s 13ms/step - loss: 0.4257 - accuracy: 0.8943 - val_loss: 0.4797 - val_accuracy: 0.8493\n",
      "Epoch 49/100\n",
      "32/32 [==============================] - 0s 12ms/step - loss: 0.4324 - accuracy: 0.8894 - val_loss: 0.4859 - val_accuracy: 0.8447\n",
      "Epoch 50/100\n",
      "32/32 [==============================] - 0s 12ms/step - loss: 0.4473 - accuracy: 0.8865 - val_loss: 0.4583 - val_accuracy: 0.8630\n",
      "Epoch 51/100\n",
      "32/32 [==============================] - 0s 13ms/step - loss: 0.4530 - accuracy: 0.8904 - val_loss: 0.4500 - val_accuracy: 0.8721\n",
      "Epoch 52/100\n",
      "32/32 [==============================] - 0s 12ms/step - loss: 0.4260 - accuracy: 0.8875 - val_loss: 0.4475 - val_accuracy: 0.8721\n",
      "Epoch 53/100\n",
      "32/32 [==============================] - 0s 12ms/step - loss: 0.4293 - accuracy: 0.8904 - val_loss: 0.4510 - val_accuracy: 0.8676\n",
      "Epoch 54/100\n",
      "32/32 [==============================] - 0s 12ms/step - loss: 0.4244 - accuracy: 0.8943 - val_loss: 0.4362 - val_accuracy: 0.8767\n",
      "Epoch 55/100\n",
      "32/32 [==============================] - 0s 12ms/step - loss: 0.4251 - accuracy: 0.8845 - val_loss: 0.4533 - val_accuracy: 0.8721\n",
      "Epoch 56/100\n",
      "32/32 [==============================] - 0s 12ms/step - loss: 0.4349 - accuracy: 0.8894 - val_loss: 0.4449 - val_accuracy: 0.8858\n",
      "Epoch 57/100\n",
      "32/32 [==============================] - 0s 12ms/step - loss: 0.4512 - accuracy: 0.8816 - val_loss: 0.5552 - val_accuracy: 0.8265\n",
      "Epoch 58/100\n",
      "32/32 [==============================] - 0s 11ms/step - loss: 0.4366 - accuracy: 0.8943 - val_loss: 0.4474 - val_accuracy: 0.8950\n",
      "Epoch 59/100\n",
      "32/32 [==============================] - 0s 12ms/step - loss: 0.4384 - accuracy: 0.8885 - val_loss: 0.4540 - val_accuracy: 0.8676\n",
      "Epoch 60/100\n",
      "32/32 [==============================] - 0s 12ms/step - loss: 0.4203 - accuracy: 0.8982 - val_loss: 0.4812 - val_accuracy: 0.8447\n",
      "Epoch 61/100\n",
      "32/32 [==============================] - 0s 12ms/step - loss: 0.4489 - accuracy: 0.8777 - val_loss: 0.6616 - val_accuracy: 0.7808\n",
      "Epoch 62/100\n",
      "32/32 [==============================] - 0s 12ms/step - loss: 0.4334 - accuracy: 0.8885 - val_loss: 0.4475 - val_accuracy: 0.8676\n",
      "Epoch 63/100\n",
      "32/32 [==============================] - 0s 12ms/step - loss: 0.4214 - accuracy: 0.8885 - val_loss: 0.4384 - val_accuracy: 0.8950\n",
      "Epoch 64/100\n",
      "32/32 [==============================] - 0s 12ms/step - loss: 0.4772 - accuracy: 0.8620 - val_loss: 0.5112 - val_accuracy: 0.8447\n",
      "Epoch 65/100\n",
      "32/32 [==============================] - 0s 12ms/step - loss: 0.4312 - accuracy: 0.8816 - val_loss: 0.4490 - val_accuracy: 0.8676\n",
      "Epoch 66/100\n",
      "32/32 [==============================] - 0s 12ms/step - loss: 0.4201 - accuracy: 0.8875 - val_loss: 0.4375 - val_accuracy: 0.8676\n",
      "Epoch 67/100\n",
      "32/32 [==============================] - 0s 13ms/step - loss: 0.4311 - accuracy: 0.8845 - val_loss: 0.4452 - val_accuracy: 0.8767\n",
      "Epoch 68/100\n",
      "32/32 [==============================] - 0s 13ms/step - loss: 0.4624 - accuracy: 0.8787 - val_loss: 0.4765 - val_accuracy: 0.8584\n",
      "Epoch 69/100\n",
      "32/32 [==============================] - 0s 13ms/step - loss: 0.4396 - accuracy: 0.8875 - val_loss: 0.5097 - val_accuracy: 0.8402\n",
      "Epoch 70/100\n",
      "32/32 [==============================] - 0s 12ms/step - loss: 0.4303 - accuracy: 0.8973 - val_loss: 0.4453 - val_accuracy: 0.8767\n",
      "Epoch 71/100\n",
      "32/32 [==============================] - 0s 12ms/step - loss: 0.4261 - accuracy: 0.8865 - val_loss: 0.4527 - val_accuracy: 0.8813\n",
      "Epoch 72/100\n",
      "32/32 [==============================] - 0s 12ms/step - loss: 0.4403 - accuracy: 0.8787 - val_loss: 0.4466 - val_accuracy: 0.8721\n",
      "Epoch 73/100\n",
      "32/32 [==============================] - 0s 13ms/step - loss: 0.4353 - accuracy: 0.8855 - val_loss: 0.4540 - val_accuracy: 0.8721\n",
      "Epoch 74/100\n",
      "32/32 [==============================] - 0s 12ms/step - loss: 0.4249 - accuracy: 0.8943 - val_loss: 0.4599 - val_accuracy: 0.8721\n",
      "Epoch 75/100\n",
      "32/32 [==============================] - 0s 13ms/step - loss: 0.4296 - accuracy: 0.8885 - val_loss: 0.4619 - val_accuracy: 0.8676\n",
      "Epoch 76/100\n",
      "32/32 [==============================] - 0s 12ms/step - loss: 0.4293 - accuracy: 0.9002 - val_loss: 0.4605 - val_accuracy: 0.8721\n",
      "Epoch 77/100\n",
      "32/32 [==============================] - 0s 13ms/step - loss: 0.4408 - accuracy: 0.8914 - val_loss: 0.5007 - val_accuracy: 0.8447\n",
      "Epoch 78/100\n",
      "32/32 [==============================] - 0s 13ms/step - loss: 0.4279 - accuracy: 0.8933 - val_loss: 0.4398 - val_accuracy: 0.8904\n",
      "Epoch 79/100\n",
      "32/32 [==============================] - 0s 12ms/step - loss: 0.4575 - accuracy: 0.8787 - val_loss: 0.5020 - val_accuracy: 0.8447\n",
      "Epoch 80/100\n",
      "32/32 [==============================] - 0s 13ms/step - loss: 0.4219 - accuracy: 0.8953 - val_loss: 0.4355 - val_accuracy: 0.8767\n",
      "Epoch 81/100\n",
      "32/32 [==============================] - 0s 12ms/step - loss: 0.4421 - accuracy: 0.8777 - val_loss: 0.4715 - val_accuracy: 0.8584\n",
      "Epoch 82/100\n",
      "32/32 [==============================] - 0s 13ms/step - loss: 0.4155 - accuracy: 0.8904 - val_loss: 0.4446 - val_accuracy: 0.8721\n",
      "Epoch 83/100\n",
      "32/32 [==============================] - 0s 13ms/step - loss: 0.4226 - accuracy: 0.8914 - val_loss: 0.4510 - val_accuracy: 0.8539\n",
      "Epoch 84/100\n",
      "32/32 [==============================] - 0s 13ms/step - loss: 0.4332 - accuracy: 0.8875 - val_loss: 0.4867 - val_accuracy: 0.8447\n",
      "Epoch 85/100\n",
      "32/32 [==============================] - 0s 14ms/step - loss: 0.4275 - accuracy: 0.8933 - val_loss: 0.4390 - val_accuracy: 0.8858\n",
      "Epoch 86/100\n",
      "32/32 [==============================] - 0s 13ms/step - loss: 0.4361 - accuracy: 0.8796 - val_loss: 0.4508 - val_accuracy: 0.8676\n",
      "Epoch 87/100\n",
      "32/32 [==============================] - 0s 12ms/step - loss: 0.4344 - accuracy: 0.8855 - val_loss: 0.4423 - val_accuracy: 0.8813\n",
      "Epoch 88/100\n",
      "32/32 [==============================] - 0s 12ms/step - loss: 0.4419 - accuracy: 0.8845 - val_loss: 0.4436 - val_accuracy: 0.8858\n",
      "Epoch 89/100\n",
      "32/32 [==============================] - 0s 12ms/step - loss: 0.4254 - accuracy: 0.8973 - val_loss: 0.4383 - val_accuracy: 0.8904\n",
      "Epoch 90/100\n",
      "32/32 [==============================] - 0s 12ms/step - loss: 0.4250 - accuracy: 0.8914 - val_loss: 0.4536 - val_accuracy: 0.8721\n",
      "Epoch 91/100\n",
      "32/32 [==============================] - 0s 12ms/step - loss: 0.4317 - accuracy: 0.8845 - val_loss: 0.4722 - val_accuracy: 0.8539\n",
      "Epoch 92/100\n",
      "32/32 [==============================] - 0s 12ms/step - loss: 0.4325 - accuracy: 0.8875 - val_loss: 0.5113 - val_accuracy: 0.8356\n",
      "Epoch 93/100\n",
      "32/32 [==============================] - 0s 12ms/step - loss: 0.4464 - accuracy: 0.8777 - val_loss: 0.5529 - val_accuracy: 0.8265\n",
      "Epoch 94/100\n",
      "32/32 [==============================] - 0s 13ms/step - loss: 0.4197 - accuracy: 0.8875 - val_loss: 0.4392 - val_accuracy: 0.8858\n",
      "Epoch 95/100\n",
      "32/32 [==============================] - 0s 12ms/step - loss: 0.4443 - accuracy: 0.8806 - val_loss: 0.4426 - val_accuracy: 0.8721\n",
      "Epoch 96/100\n",
      "32/32 [==============================] - 0s 13ms/step - loss: 0.4227 - accuracy: 0.9012 - val_loss: 0.4378 - val_accuracy: 0.8904\n",
      "Epoch 97/100\n",
      "32/32 [==============================] - 0s 12ms/step - loss: 0.4306 - accuracy: 0.8963 - val_loss: 0.4895 - val_accuracy: 0.8447\n",
      "Epoch 98/100\n",
      "32/32 [==============================] - 0s 13ms/step - loss: 0.4370 - accuracy: 0.8855 - val_loss: 0.5850 - val_accuracy: 0.8174\n",
      "Epoch 99/100\n",
      "32/32 [==============================] - 0s 13ms/step - loss: 0.4470 - accuracy: 0.8836 - val_loss: 0.5037 - val_accuracy: 0.8402\n",
      "Epoch 100/100\n",
      "32/32 [==============================] - 0s 12ms/step - loss: 0.4209 - accuracy: 0.8933 - val_loss: 0.4422 - val_accuracy: 0.8858\n"
     ]
    }
   ],
   "source": [
    "model_3.compile(optimizer='adam',\n",
    "              loss='binary_crossentropy',\n",
    "              metrics=['accuracy'])\n",
    "hist_3 = model_3.fit(X_train, Y_train,\n",
    "          batch_size=32, epochs=100,\n",
    "          validation_data=(X_val, Y_val))"
   ]
  },
  {
   "cell_type": "markdown",
   "metadata": {},
   "source": [
    "We'll now plot the loss and accuracy graphs for Model 3. You'll notice that the loss is a lot higher at the start, and that's because we've changed our loss function. To plot such that the window is zoomed in between 0 and 1.2 for the loss, we add an additional line of code (plt.ylim) when plotting"
   ]
  },
  {
   "cell_type": "code",
   "execution_count": 33,
   "metadata": {},
   "outputs": [
    {
     "data": {
      "image/png": "[encoded data removed]",
      "text/plain": [
       "<Figure size 432x288 with 1 Axes>"
      ]
     },
     "metadata": {
      "needs_background": "light"
     },
     "output_type": "display_data"
    }
   ],
   "source": [
    "plt.plot(hist_3.history['loss'])\n",
    "plt.plot(hist_3.history['val_loss'])\n",
    "plt.title('Model loss')\n",
    "plt.ylabel('Loss')\n",
    "plt.xlabel('Epoch')\n",
    "plt.legend(['Train', 'Val'], loc='upper right')\n",
    "plt.ylim(top=1.2, bottom=0)\n",
    "plt.show()"
   ]
  },
  {
   "cell_type": "code",
   "execution_count": 35,
   "metadata": {},
   "outputs": [
    {
     "data": {
      "image/png": "[encoded data removed]",
      "text/plain": [
       "<Figure size 432x288 with 1 Axes>"
      ]
     },
     "metadata": {
      "needs_background": "light"
     },
     "output_type": "display_data"
    }
   ],
   "source": [
    "plt.plot(hist_3.history['accuracy'])\n",
    "plt.plot(hist_3.history['val_accuracy'])\n",
    "plt.title('Model accuracy')\n",
    "plt.ylabel('Accuracy')\n",
    "plt.xlabel('Epoch')\n",
    "plt.legend(['Train', 'Val'], loc='lower right')\n",
    "plt.show()"
   ]
  },
  {
   "cell_type": "markdown",
   "metadata": {},
   "source": [
    "As compared to Model 2, you should see that there's less overfitting!"
   ]
  },
  {
   "cell_type": "code",
   "execution_count": null,
   "metadata": {},
   "outputs": [],
   "source": []
  }
 ],
 "metadata": {
  "kernelspec": {
   "display_name": "Python 3",
   "language": "python",
   "name": "python3"
  },
  "language_info": {
   "codemirror_mode": {
    "name": "ipython",
    "version": 3
   },
   "file_extension": ".py",
   "mimetype": "text/x-python",
   "name": "python",
   "nbconvert_exporter": "python",
   "pygments_lexer": "ipython3",
   "version": "3.8.3"
  }
 },
 "nbformat": 4,
 "nbformat_minor": 2
}
